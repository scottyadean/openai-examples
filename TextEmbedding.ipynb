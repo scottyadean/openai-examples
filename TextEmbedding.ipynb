{
 "cells": [
  {
   "cell_type": "markdown",
   "id": "e8b6a755-7392-4890-adc7-ba38d55800d0",
   "metadata": {},
   "source": [
    "## consign similarity search with text embedding \n",
    "- note using data you provice to the openai model when sending a query to the text completion engine "
   ]
  },
  {
   "cell_type": "code",
   "execution_count": 30,
   "id": "b0347d5c-4e98-470c-9c5a-c03926d9206d",
   "metadata": {},
   "outputs": [],
   "source": [
    "#!pip install tiktoken"
   ]
  },
  {
   "cell_type": "code",
   "execution_count": 63,
   "id": "90c00f38-8cf8-4d56-a6ec-e8a8d19bdbf0",
   "metadata": {},
   "outputs": [],
   "source": [
    "import os\n",
    "import ast\n",
    "import openai\n",
    "import tiktoken\n",
    "import pandas as pd\n",
    "import numpy as np"
   ]
  },
  {
   "cell_type": "code",
   "execution_count": 64,
   "id": "96f174cb-98a5-4d36-9e99-fa5bdbc85e7c",
   "metadata": {},
   "outputs": [],
   "source": [
    "openai.api_key = os.environ[\"OPENAI_KEY\"]"
   ]
  },
  {
   "cell_type": "code",
   "execution_count": 10,
   "id": "be82c355-da1e-47dc-b57f-dcc00105870b",
   "metadata": {},
   "outputs": [],
   "source": [
    "prompt = '''Only Answer the question below if you have 100% certainty of the facts.\n",
    "Q: What does the start-up company Pentera do and who invested in it?\n",
    "A: '''"
   ]
  },
  {
   "cell_type": "code",
   "execution_count": 70,
   "id": "50971ae1-09b9-43c5-99ba-d84ceb3d5e95",
   "metadata": {},
   "outputs": [],
   "source": [
    "def ask_open_ai(prompt, model=\"text-davinci-003\"):\n",
    "    res = openai.Completion.create(model = model,\n",
    "                                   prompt = prompt,\n",
    "                                   temperature = 0,\n",
    "                                   max_tokens = 512)\n",
    "    return res\n",
    "\n",
    "def compnay_summary( name, url, city, country, type, investors ):\n",
    "    investors_list = f\"The investors in the company {name}\"\n",
    "    for investor in ast.literal_eval(investors):\n",
    "        investors_list += f\"{investor},\"\n",
    "    text = f\"{name} has a headquartests in {city} in {country} and is in the field of {type}. {investors_list}. More info at {url}\"\n",
    "    return text\n",
    "\n",
    "\n",
    "def token_number_count(val, encode_name):\n",
    "    \"\"\" gpt2 \"\"\" \n",
    "    encoding = tiktoken.get_encoding(encode_name)\n",
    "    num = len(encoding.encode(val))\n",
    "    return num\n",
    "\n",
    "def get_embedding( text, model=\"text-embedding-ada-002\" ):\n",
    "    result = openai.Embedding.create(model=model, input=text)\n",
    "    return result['data'][0]['embedding']\n",
    "    \n",
    "def vector_similarity( v1, v2 ):\n",
    "    return np.dot(np.array(v1), np.array(v2))\n",
    "\n",
    "def get_prompt(context, question):\n",
    "    prompt = f'''Only Answer the question below if you have 100% certainty of the facts.\n",
    "    Context: {context}\n",
    "    Q: {question}?\n",
    "    A: '''\n",
    "    return prompt\n",
    "\n",
    "def ask_embedded_docs(df):\n",
    "    qst = input(\"What question do you have about a Unicorn start-up?\")\n",
    "    prompt_embedding = get_embedding(qst)\n",
    "    df['prompt_similarity'] = df['embedding'].apply( lambda vector:vector_similarity(vector, prompt_embedding) )    \n",
    "    ctx = df.nlargest(1, 'prompt_similarity')\n",
    "    prompt = get_prompt(ctx.iloc[0]['summary'], qst)\n",
    "    print(prompt)\n",
    "    resp = ask_open_ai(prompt)\n",
    "    return resp\n",
    "    "
   ]
  },
  {
   "cell_type": "code",
   "execution_count": 12,
   "id": "6c50554d-360d-4d01-9395-0293cacf4283",
   "metadata": {},
   "outputs": [],
   "source": [
    "resp = ask_open_ai(prompt)"
   ]
  },
  {
   "cell_type": "code",
   "execution_count": 13,
   "id": "a76ba871-c3e5-495a-986a-37a9f4332f62",
   "metadata": {},
   "outputs": [
    {
     "name": "stdout",
     "output_type": "stream",
     "text": [
      " I cannot answer this question with 100% certainty.\n"
     ]
    }
   ],
   "source": [
    "print(resp['choices'][0]['text'])"
   ]
  },
  {
   "cell_type": "code",
   "execution_count": 14,
   "id": "e6db8adb-71fa-4049-bd9a-1bd313d4ecc7",
   "metadata": {},
   "outputs": [],
   "source": [
    "# Pentera is a start-up company that provides software solutions for the financial services industry. \n",
    "# The company's software helps financial advisors and institutions manage their client relationships, \n",
    "# automate processes, and improve compliance. Pentera has received investments from venture capital \n",
    "# firms such as Andreessen Horowitz, Lightspeed Venture Partners, and Formation 8. "
   ]
  },
  {
   "cell_type": "code",
   "execution_count": 16,
   "id": "56e8b9ef-8345-498f-86c5-45f638794e29",
   "metadata": {},
   "outputs": [],
   "source": [
    "df = pd.read_csv(\"./data/unicorns.csv\")"
   ]
  },
  {
   "cell_type": "code",
   "execution_count": 17,
   "id": "10242989-2836-4ff3-a05a-102416a96388",
   "metadata": {},
   "outputs": [
    {
     "data": {
      "text/html": [
       "<div>\n",
       "<style scoped>\n",
       "    .dataframe tbody tr th:only-of-type {\n",
       "        vertical-align: middle;\n",
       "    }\n",
       "\n",
       "    .dataframe tbody tr th {\n",
       "        vertical-align: top;\n",
       "    }\n",
       "\n",
       "    .dataframe thead th {\n",
       "        text-align: right;\n",
       "    }\n",
       "</style>\n",
       "<table border=\"1\" class=\"dataframe\">\n",
       "  <thead>\n",
       "    <tr style=\"text-align: right;\">\n",
       "      <th></th>\n",
       "      <th>Updated at</th>\n",
       "      <th>Company</th>\n",
       "      <th>Crunchbase Url</th>\n",
       "      <th>Last Valuation (Billion $)</th>\n",
       "      <th>Date Joined</th>\n",
       "      <th>Year Joined</th>\n",
       "      <th>City</th>\n",
       "      <th>Country</th>\n",
       "      <th>Industry</th>\n",
       "      <th>Investors</th>\n",
       "      <th>Company Website</th>\n",
       "    </tr>\n",
       "  </thead>\n",
       "  <tbody>\n",
       "    <tr>\n",
       "      <th>0</th>\n",
       "      <td>10/31/2022, 2:37:05 AM</td>\n",
       "      <td>Esusu</td>\n",
       "      <td>https://www.cbinsights.com/company/esusu</td>\n",
       "      <td>1.0</td>\n",
       "      <td>1/27/2022</td>\n",
       "      <td>2022</td>\n",
       "      <td>New York</td>\n",
       "      <td>United States</td>\n",
       "      <td>Fintech</td>\n",
       "      <td>[\"Next Play Ventures\",\"Zeal Capital Partners\",...</td>\n",
       "      <td>NaN</td>\n",
       "    </tr>\n",
       "    <tr>\n",
       "      <th>1</th>\n",
       "      <td>10/31/2022, 2:37:05 AM</td>\n",
       "      <td>Fever Labs</td>\n",
       "      <td>https://www.cbinsights.com/company/fever-labs</td>\n",
       "      <td>1.0</td>\n",
       "      <td>1/26/2022</td>\n",
       "      <td>2022</td>\n",
       "      <td>New York</td>\n",
       "      <td>United States</td>\n",
       "      <td>Internet software &amp; services</td>\n",
       "      <td>[\"Accel\",\"14W\",\"GS Growth\"]</td>\n",
       "      <td>NaN</td>\n",
       "    </tr>\n",
       "    <tr>\n",
       "      <th>2</th>\n",
       "      <td>10/31/2022, 2:37:04 AM</td>\n",
       "      <td>Minio</td>\n",
       "      <td>https://www.cbinsights.com/company/minio</td>\n",
       "      <td>1.0</td>\n",
       "      <td>1/26/2022</td>\n",
       "      <td>2022</td>\n",
       "      <td>Palo Alto</td>\n",
       "      <td>United States</td>\n",
       "      <td>Data management &amp; analytics</td>\n",
       "      <td>[\"General Catalyst\",\"Nexus Venture Partners\",\"...</td>\n",
       "      <td>NaN</td>\n",
       "    </tr>\n",
       "    <tr>\n",
       "      <th>3</th>\n",
       "      <td>10/31/2022, 2:37:04 AM</td>\n",
       "      <td>Darwinbox</td>\n",
       "      <td>https://www.cbinsights.com/company/darwinbox</td>\n",
       "      <td>1.0</td>\n",
       "      <td>1/25/2022</td>\n",
       "      <td>2022</td>\n",
       "      <td>Hyderabad</td>\n",
       "      <td>India</td>\n",
       "      <td>Internet software &amp; services</td>\n",
       "      <td>[\"Lightspeed India Partners\",\"Sequoia Capital ...</td>\n",
       "      <td>NaN</td>\n",
       "    </tr>\n",
       "    <tr>\n",
       "      <th>4</th>\n",
       "      <td>10/31/2022, 2:37:04 AM</td>\n",
       "      <td>Pentera</td>\n",
       "      <td>https://www.cbinsights.com/company/pcysys</td>\n",
       "      <td>1.0</td>\n",
       "      <td>1/11/2022</td>\n",
       "      <td>2022</td>\n",
       "      <td>Petah Tikva</td>\n",
       "      <td>Israel</td>\n",
       "      <td>Cybersecurity</td>\n",
       "      <td>[\"AWZ Ventures\",\"Blackstone\",\"Insight Partners\"]</td>\n",
       "      <td>NaN</td>\n",
       "    </tr>\n",
       "  </tbody>\n",
       "</table>\n",
       "</div>"
      ],
      "text/plain": [
       "               Updated at     Company  \\\n",
       "0  10/31/2022, 2:37:05 AM       Esusu   \n",
       "1  10/31/2022, 2:37:05 AM  Fever Labs   \n",
       "2  10/31/2022, 2:37:04 AM       Minio   \n",
       "3  10/31/2022, 2:37:04 AM   Darwinbox   \n",
       "4  10/31/2022, 2:37:04 AM     Pentera   \n",
       "\n",
       "                                  Crunchbase Url  Last Valuation (Billion $)  \\\n",
       "0       https://www.cbinsights.com/company/esusu                         1.0   \n",
       "1  https://www.cbinsights.com/company/fever-labs                         1.0   \n",
       "2       https://www.cbinsights.com/company/minio                         1.0   \n",
       "3   https://www.cbinsights.com/company/darwinbox                         1.0   \n",
       "4      https://www.cbinsights.com/company/pcysys                         1.0   \n",
       "\n",
       "  Date Joined  Year Joined         City        Country  \\\n",
       "0   1/27/2022         2022     New York  United States   \n",
       "1   1/26/2022         2022     New York  United States   \n",
       "2   1/26/2022         2022    Palo Alto  United States   \n",
       "3   1/25/2022         2022    Hyderabad          India   \n",
       "4   1/11/2022         2022  Petah Tikva         Israel   \n",
       "\n",
       "                       Industry  \\\n",
       "0                       Fintech   \n",
       "1  Internet software & services   \n",
       "2   Data management & analytics   \n",
       "3  Internet software & services   \n",
       "4                Cybersecurity    \n",
       "\n",
       "                                           Investors  Company Website  \n",
       "0  [\"Next Play Ventures\",\"Zeal Capital Partners\",...              NaN  \n",
       "1                        [\"Accel\",\"14W\",\"GS Growth\"]              NaN  \n",
       "2  [\"General Catalyst\",\"Nexus Venture Partners\",\"...              NaN  \n",
       "3  [\"Lightspeed India Partners\",\"Sequoia Capital ...              NaN  \n",
       "4   [\"AWZ Ventures\",\"Blackstone\",\"Insight Partners\"]              NaN  "
      ]
     },
     "execution_count": 17,
     "metadata": {},
     "output_type": "execute_result"
    }
   ],
   "source": [
    "df.head()"
   ]
  },
  {
   "cell_type": "code",
   "execution_count": 28,
   "id": "0cb266dd-17df-4031-976f-9b9d2ab3f8a8",
   "metadata": {},
   "outputs": [],
   "source": [
    "df['summary'] = df.apply( lambda df: compnay_summary( df['Company'], df['Crunchbase Url'], df['City'], df['Country'], df['Industry'], df['Investors']  ), axis=1   )"
   ]
  },
  {
   "cell_type": "code",
   "execution_count": 29,
   "id": "5fae8bc8-5ce4-4207-b21f-59ad5c02456f",
   "metadata": {},
   "outputs": [
    {
     "data": {
      "text/plain": [
       "'Esusu has a headquartests in New York in United States and is in the field of Fintech. The investors in the company EsusuNext Play Ventures,Zeal Capital Partners,SoftBank Group,. More info at https://www.cbinsights.com/company/esusu'"
      ]
     },
     "execution_count": 29,
     "metadata": {},
     "output_type": "execute_result"
    }
   ],
   "source": [
    "df['summary'][0]"
   ]
  },
  {
   "cell_type": "code",
   "execution_count": 34,
   "id": "d016fa77-4b97-4b6b-9d3d-7b0a7c8dceeb",
   "metadata": {},
   "outputs": [],
   "source": [
    "token_count = token_number_count(df['summary'][0], 'cl100k_base')"
   ]
  },
  {
   "cell_type": "code",
   "execution_count": 35,
   "id": "aff01294-44ef-4600-a9eb-4a34d1f6e80f",
   "metadata": {},
   "outputs": [
    {
     "name": "stdout",
     "output_type": "stream",
     "text": [
      "57\n"
     ]
    }
   ],
   "source": [
    "print(token_count)"
   ]
  },
  {
   "cell_type": "code",
   "execution_count": 36,
   "id": "89f83c3b-aac3-495e-b766-4bf423663075",
   "metadata": {},
   "outputs": [],
   "source": [
    "df['token_count'] = df['summary'].apply(lambda text: token_number_count(text, 'cl100k_base') )"
   ]
  },
  {
   "cell_type": "code",
   "execution_count": 37,
   "id": "3fcb4908-cc7b-4e88-945e-4679916d5830",
   "metadata": {},
   "outputs": [],
   "source": [
    "token_count = df['token_count'].sum()"
   ]
  },
  {
   "cell_type": "code",
   "execution_count": 38,
   "id": "67378faf-2aeb-4d2b-8ed2-fcb4a6af1c81",
   "metadata": {},
   "outputs": [
    {
     "name": "stdout",
     "output_type": "stream",
     "text": [
      "70258\n"
     ]
    }
   ],
   "source": [
    "print(token_count)"
   ]
  },
  {
   "cell_type": "code",
   "execution_count": 39,
   "id": "6a3e260e-7d57-4b0d-afb6-06d4430447a4",
   "metadata": {},
   "outputs": [],
   "source": [
    "# $0.0004 per 1000 tokens (training) USD\n",
    "price = token_count * 0.0004 / 1000\n"
   ]
  },
  {
   "cell_type": "code",
   "execution_count": 41,
   "id": "aa5fa75d-b305-49a2-9392-08da18f3f0d3",
   "metadata": {},
   "outputs": [
    {
     "name": "stdout",
     "output_type": "stream",
     "text": [
      "0.028103200000000002\n"
     ]
    }
   ],
   "source": [
    "print(price) # around 3 cents"
   ]
  },
  {
   "cell_type": "code",
   "execution_count": 44,
   "id": "f4788b9a-42de-4f53-ae8d-3d88c64f20a9",
   "metadata": {},
   "outputs": [
    {
     "data": {
      "text/plain": [
       "1536"
      ]
     },
     "execution_count": 44,
     "metadata": {},
     "output_type": "execute_result"
    }
   ],
   "source": [
    "vector = get_embedding(df['summary'][0])\n",
    "len(vector)"
   ]
  },
  {
   "cell_type": "code",
   "execution_count": 45,
   "id": "f8c1eb5d-b4c1-4897-bbee-bb233b37f995",
   "metadata": {},
   "outputs": [],
   "source": [
    "df['embedding'] = df['summary'].apply(get_embedding)"
   ]
  },
  {
   "cell_type": "code",
   "execution_count": 46,
   "id": "afea6690-5b19-4e02-b30f-501213dfb0db",
   "metadata": {},
   "outputs": [],
   "source": [
    "# df.to_csv('unicorns_with_embeddings.csv')"
   ]
  },
  {
   "cell_type": "code",
   "execution_count": 52,
   "id": "0d132c45-88f6-4629-85b9-a8b25fad9c13",
   "metadata": {},
   "outputs": [],
   "source": [
    "prompt_embedding = get_embedding(\"What does the start-up company Pentera do and who invested in it?\")"
   ]
  },
  {
   "cell_type": "code",
   "execution_count": 53,
   "id": "934ef898-3639-4cbf-b790-37539a9de101",
   "metadata": {},
   "outputs": [],
   "source": [
    "df['prompt_similarity'] = df['embedding'].apply( lambda vector:vector_similarity(vector, prompt_embedding) )"
   ]
  },
  {
   "cell_type": "code",
   "execution_count": 54,
   "id": "0dece855-6046-46a3-8984-85331bb1ee8d",
   "metadata": {},
   "outputs": [
    {
     "data": {
      "text/plain": [
       "0       0.771109\n",
       "1       0.749628\n",
       "2       0.783438\n",
       "3       0.756303\n",
       "4       0.875022\n",
       "          ...   \n",
       "1194    0.752233\n",
       "1195    0.769957\n",
       "1196    0.752561\n",
       "1197    0.771122\n",
       "1198    0.761627\n",
       "Name: prompt_similarity, Length: 1199, dtype: float64"
      ]
     },
     "execution_count": 54,
     "metadata": {},
     "output_type": "execute_result"
    }
   ],
   "source": [
    "df['prompt_similarity']"
   ]
  },
  {
   "cell_type": "code",
   "execution_count": 55,
   "id": "53d11928-e474-4cd9-b170-f4010b330758",
   "metadata": {},
   "outputs": [],
   "source": [
    "row = df.nlargest(1, 'prompt_similarity')"
   ]
  },
  {
   "cell_type": "code",
   "execution_count": 57,
   "id": "497a714d-43c8-494e-b3d9-e75467f49a49",
   "metadata": {},
   "outputs": [
    {
     "data": {
      "text/html": [
       "<div>\n",
       "<style scoped>\n",
       "    .dataframe tbody tr th:only-of-type {\n",
       "        vertical-align: middle;\n",
       "    }\n",
       "\n",
       "    .dataframe tbody tr th {\n",
       "        vertical-align: top;\n",
       "    }\n",
       "\n",
       "    .dataframe thead th {\n",
       "        text-align: right;\n",
       "    }\n",
       "</style>\n",
       "<table border=\"1\" class=\"dataframe\">\n",
       "  <thead>\n",
       "    <tr style=\"text-align: right;\">\n",
       "      <th></th>\n",
       "      <th>Updated at</th>\n",
       "      <th>Company</th>\n",
       "      <th>Crunchbase Url</th>\n",
       "      <th>Last Valuation (Billion $)</th>\n",
       "      <th>Date Joined</th>\n",
       "      <th>Year Joined</th>\n",
       "      <th>City</th>\n",
       "      <th>Country</th>\n",
       "      <th>Industry</th>\n",
       "      <th>Investors</th>\n",
       "      <th>Company Website</th>\n",
       "      <th>summary</th>\n",
       "      <th>token_count</th>\n",
       "      <th>embedding</th>\n",
       "      <th>prompt_similarity</th>\n",
       "    </tr>\n",
       "  </thead>\n",
       "  <tbody>\n",
       "    <tr>\n",
       "      <th>4</th>\n",
       "      <td>10/31/2022, 2:37:04 AM</td>\n",
       "      <td>Pentera</td>\n",
       "      <td>https://www.cbinsights.com/company/pcysys</td>\n",
       "      <td>1.0</td>\n",
       "      <td>1/11/2022</td>\n",
       "      <td>2022</td>\n",
       "      <td>Petah Tikva</td>\n",
       "      <td>Israel</td>\n",
       "      <td>Cybersecurity</td>\n",
       "      <td>[\"AWZ Ventures\",\"Blackstone\",\"Insight Partners\"]</td>\n",
       "      <td>NaN</td>\n",
       "      <td>Pentera has a headquartests in Petah Tikva in ...</td>\n",
       "      <td>59</td>\n",
       "      <td>[0.012362896464765072, -0.01194785162806511, 0...</td>\n",
       "      <td>0.875022</td>\n",
       "    </tr>\n",
       "  </tbody>\n",
       "</table>\n",
       "</div>"
      ],
      "text/plain": [
       "               Updated at  Company                             Crunchbase Url  \\\n",
       "4  10/31/2022, 2:37:04 AM  Pentera  https://www.cbinsights.com/company/pcysys   \n",
       "\n",
       "   Last Valuation (Billion $) Date Joined  Year Joined         City Country  \\\n",
       "4                         1.0   1/11/2022         2022  Petah Tikva  Israel   \n",
       "\n",
       "         Industry                                         Investors  \\\n",
       "4  Cybersecurity   [\"AWZ Ventures\",\"Blackstone\",\"Insight Partners\"]   \n",
       "\n",
       "   Company Website                                            summary  \\\n",
       "4              NaN  Pentera has a headquartests in Petah Tikva in ...   \n",
       "\n",
       "   token_count                                          embedding  \\\n",
       "4           59  [0.012362896464765072, -0.01194785162806511, 0...   \n",
       "\n",
       "   prompt_similarity  \n",
       "4           0.875022  "
      ]
     },
     "execution_count": 57,
     "metadata": {},
     "output_type": "execute_result"
    }
   ],
   "source": [
    "row"
   ]
  },
  {
   "cell_type": "code",
   "execution_count": 58,
   "id": "20160aa7-feb6-4454-a547-ef33eb852469",
   "metadata": {},
   "outputs": [
    {
     "data": {
      "text/plain": [
       "'Pentera has a headquartests in Petah Tikva in Israel and is in the field of Cybersecurity . The investors in the company PenteraAWZ Ventures,Blackstone,Insight Partners,. More info at https://www.cbinsights.com/company/pcysys'"
      ]
     },
     "execution_count": 58,
     "metadata": {},
     "output_type": "execute_result"
    }
   ],
   "source": [
    "row.iloc[0]['summary']"
   ]
  },
  {
   "cell_type": "code",
   "execution_count": 71,
   "id": "4cfa2865-9888-4573-bb31-4bc373eaccdb",
   "metadata": {},
   "outputs": [
    {
     "name": "stdin",
     "output_type": "stream",
     "text": [
      "What question do you have about a Unicorn start-up? What does the start-up Minio do and who are the investors\n"
     ]
    },
    {
     "name": "stdout",
     "output_type": "stream",
     "text": [
      "Only Answer the question below if you have 100% certainty of the facts.\n",
      "    Context: Minio has a headquartests in Palo Alto in United States and is in the field of Data management & analytics. The investors in the company MinioGeneral Catalyst,Nexus Venture Partners,Dell Technologies Capital,. More info at https://www.cbinsights.com/company/minio\n",
      "    Q: What does the start-up Minio do and who are the investors?\n",
      "    A: \n"
     ]
    }
   ],
   "source": [
    "resp = ask_embedded_docs(df)"
   ]
  },
  {
   "cell_type": "code",
   "execution_count": 72,
   "id": "0fa86ad4-7828-4211-830d-fd04f34b038b",
   "metadata": {},
   "outputs": [
    {
     "name": "stdout",
     "output_type": "stream",
     "text": [
      " Minio is a data management and analytics start-up with investors General Catalyst, Nexus Venture Partners, and Dell Technologies Capital.\n"
     ]
    }
   ],
   "source": [
    "print(resp['choices'][0]['text'])"
   ]
  },
  {
   "cell_type": "code",
   "execution_count": null,
   "id": "0b331183-bf05-41e2-8c4a-880ff1650211",
   "metadata": {},
   "outputs": [],
   "source": []
  }
 ],
 "metadata": {
  "kernelspec": {
   "display_name": "Python 3 (ipykernel)",
   "language": "python",
   "name": "python3"
  },
  "language_info": {
   "codemirror_mode": {
    "name": "ipython",
    "version": 3
   },
   "file_extension": ".py",
   "mimetype": "text/x-python",
   "name": "python",
   "nbconvert_exporter": "python",
   "pygments_lexer": "ipython3",
   "version": "3.11.2"
  }
 },
 "nbformat": 4,
 "nbformat_minor": 5
}
