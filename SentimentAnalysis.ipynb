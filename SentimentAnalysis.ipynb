{
 "cells": [
  {
   "cell_type": "code",
   "execution_count": 71,
   "id": "960a1b7e-2448-436c-94a1-84c76eaa5c3f",
   "metadata": {},
   "outputs": [],
   "source": [
    "# make sure to install python rediit wrapper\n",
    "#!pip install praw "
   ]
  },
  {
   "cell_type": "code",
   "execution_count": 72,
   "id": "460e2ded-cf72-4a36-9674-27f1ae4b39b1",
   "metadata": {},
   "outputs": [],
   "source": [
    "import os \n",
    "import openai\n",
    "import pprint\n",
    "import praw\n",
    "pp = pprint.PrettyPrinter(depth=10)"
   ]
  },
  {
   "cell_type": "code",
   "execution_count": 73,
   "id": "33641748-0caf-4286-92cb-83886d4a3abe",
   "metadata": {},
   "outputs": [],
   "source": [
    "openai.api_key = os.environ[\"OPENAI_KEY\"]"
   ]
  },
  {
   "cell_type": "code",
   "execution_count": 75,
   "id": "040b656f-e3b3-4290-98e6-771fd5330944",
   "metadata": {},
   "outputs": [],
   "source": [
    "# create a new user app at reddit for an api key to access posts. \n",
    "# https://old.reddit.com/prefs/apps/\n",
    "reddit_key = os.environ.get(\"REDDIT_KEY\", \"\") \n",
    "reddit_secret = os.environ.get(\"REDDIT_SECRET\", \"\")"
   ]
  },
  {
   "cell_type": "code",
   "execution_count": 68,
   "id": "871839f2-fc6a-4121-bd1a-a5109408affb",
   "metadata": {},
   "outputs": [],
   "source": [
    "def ask_open_ai(prompt):\n",
    "    res = openai.Completion.create(model=\"text-davinci-003\",\n",
    "                                   prompt = prompt,\n",
    "                                   temperature = 0,\n",
    "                                   top_p = 1.0,\n",
    "                                   max_tokens = 256)\n",
    "    return res\n",
    "\n",
    "\n",
    "def get_titles_and_comments(sub=\"stocks\", limit=10, comment_limit=5, skip=2):\n",
    "    subreddit = reddit.subreddit(sub)\n",
    "    content = {}\n",
    "    for counter, post in enumerate(subreddit.hot(limit=limit)):\n",
    "        if counter < skip:\n",
    "            continue\n",
    "        counter += (1 - skip)\n",
    "        content[counter] = \"\"\n",
    "        content[counter] += f\"Title: {post.title}\\n\\nComments:\\n\\n\"\n",
    "        comment_count = 0\n",
    "        \n",
    "        for comment in reddit.submission(post.id).comments:\n",
    "            if '[deleted]' not in comment.body and comment.body.strip() != \"\":\n",
    "                content[counter] += f\"{comment.body}\\n\"\n",
    "                comment_count += 1\n",
    "            if comment_count > comment_limit:\n",
    "                print(f\" subject #  {counter} done: {post.title} with {comment_count} comments\" )\n",
    "                break\n",
    "    \n",
    "    return content\n",
    "\n",
    "def create_prompt(contents):\n",
    "    task = \"Return the stock ticker or company name mentioned in the following title and comments and classify the sentiment around the company as positive, negative or neutral. If no ticker or company is mentioned write 'No company mentioned'\\n\\n\"\n",
    "    return f\"{task}{contents}\"   \n",
    "\n",
    "def get_sentiment_report(data):\n",
    "    report = {}\n",
    "    for k,v in data.items():\n",
    "        resp = ask_open_ai(create_prompt(v))\n",
    "        report[k] = resp['choices'][0]['text']\n",
    "    return report\n",
    "\n"
   ]
  },
  {
   "cell_type": "code",
   "execution_count": 66,
   "id": "ec86a405-5a8a-4ff7-92b1-648673cb3c89",
   "metadata": {},
   "outputs": [
    {
     "name": "stdout",
     "output_type": "stream",
     "text": [
      " subject #  1 done: Lost 90k gambling, don't make the same mistakes as me with 6 comments\n",
      " subject #  2 done: Massive Misconception About the Writers Strike with 6 comments\n",
      " subject #  3 done: Why do so many people here spend time picking stocks that are already a huge portion of the S&P? with 6 comments\n",
      " subject #  5 done: Has disney bottomed? with 6 comments\n",
      " subject #  7 done: How bad is the bankruptcy from Evergrande for the stockmarket? with 6 comments\n"
     ]
    }
   ],
   "source": [
    "data = get_titles_and_comments('stocks')"
   ]
  },
  {
   "cell_type": "code",
   "execution_count": 69,
   "id": "71b81131-4268-43c8-9b41-f66e53a2b8c4",
   "metadata": {},
   "outputs": [],
   "source": [
    "sentiment_report = get_sentiment_report(data)"
   ]
  },
  {
   "cell_type": "code",
   "execution_count": 70,
   "id": "eea5e6fd-0bd2-4173-925e-f3729521555e",
   "metadata": {},
   "outputs": [
    {
     "name": "stdout",
     "output_type": "stream",
     "text": [
      "\n",
      "No company mentioned.\n",
      "\n",
      "No company mentioned.\n",
      "\n",
      "No company mentioned.\n",
      "\n",
      "No company mentioned.\n",
      "\n",
      "Company: Disney (DIS)\n",
      "Sentiment: Negative\n",
      "\n",
      "No company mentioned.\n",
      "\n",
      "Company: Evergrande\n",
      "Sentiment: Negative\n",
      "\n",
      "No company mentioned\n"
     ]
    }
   ],
   "source": [
    "for k,v in sentiment_report.items():\n",
    "    print( v )"
   ]
  },
  {
   "cell_type": "code",
   "execution_count": null,
   "id": "1075fe7a-c8cc-4472-84f6-c013581bfe2a",
   "metadata": {},
   "outputs": [],
   "source": []
  }
 ],
 "metadata": {
  "kernelspec": {
   "display_name": "Python 3 (ipykernel)",
   "language": "python",
   "name": "python3"
  },
  "language_info": {
   "codemirror_mode": {
    "name": "ipython",
    "version": 3
   },
   "file_extension": ".py",
   "mimetype": "text/x-python",
   "name": "python",
   "nbconvert_exporter": "python",
   "pygments_lexer": "ipython3",
   "version": "3.11.2"
  }
 },
 "nbformat": 4,
 "nbformat_minor": 5
}
