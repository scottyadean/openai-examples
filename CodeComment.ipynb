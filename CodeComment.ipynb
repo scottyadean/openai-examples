{
 "cells": [
  {
   "cell_type": "markdown",
   "id": "a82433f3-48cc-4e77-b05c-03f9957d3237",
   "metadata": {},
   "source": [
    "### Add Code Comment DocString to Python Function"
   ]
  },
  {
   "cell_type": "code",
   "execution_count": 40,
   "id": "1445e2dd-90d8-41d4-96ce-925337756f61",
   "metadata": {},
   "outputs": [],
   "source": [
    "import os \n",
    "import openai\n",
    "import pprint\n",
    "import inspect\n",
    "from pathlib import Path"
   ]
  },
  {
   "cell_type": "code",
   "execution_count": 20,
   "id": "eee622a4-75f1-4b66-9a7d-ec06e9bd5261",
   "metadata": {},
   "outputs": [],
   "source": [
    "openai.api_key = os.environ[\"OPENAI_KEY\"]"
   ]
  },
  {
   "cell_type": "code",
   "execution_count": 32,
   "id": "3ae6c6ce-aede-4f64-b523-5f5a71c1e9ee",
   "metadata": {},
   "outputs": [],
   "source": [
    "def ask_open_ai(prompt):\n",
    "    res = openai.Completion.create(model= \"text-davinci-003\", ## \"code-davinci-002\",\n",
    "                                   prompt = prompt,\n",
    "                                   temperature = 0,\n",
    "                                   top_p = 1.0,\n",
    "                                   stop=['\"\"\"'],\n",
    "                                   max_tokens = 256)\n",
    "    return res\n",
    "    \n",
    "def create_prompt(code, lang=\"python\", comment_format='\"\"\"'):\n",
    "    prompt = f\"{code}\\n # A high quality {lang} docstring of the above {lang} function:\\n {comment_format}\"\n",
    "    return prompt\n",
    "\n",
    "def merge_docstring_and_function(function_string, docstring):\n",
    "    split = function_string.split(\"\\n\")\n",
    "    first_part, second_part = split[0], split[1:]\n",
    "    merged_function = first_part + \"\\n\" + '    \"\"\"' + docstring + '    \"\"\"' + \"\\n\" + \"\\n\".join(second_part)\n",
    "    return merged_function\n",
    "\n",
    "def get_all_functions(module):\n",
    "    return [mem for mem in inspect.getmembers(module, inspect.isfunction)\n",
    "         if mem[1].__module__ == module.__name__]\n"
   ]
  },
  {
   "cell_type": "code",
   "execution_count": 28,
   "id": "e5f78cb1-d66e-43ad-b3b2-e65b60042bf4",
   "metadata": {},
   "outputs": [],
   "source": [
    "def hello(name=\"\"):\n",
    "    print(f\"Hello {name}\")"
   ]
  },
  {
   "cell_type": "code",
   "execution_count": 29,
   "id": "3809062f-f851-4c79-a90f-67e177e08094",
   "metadata": {},
   "outputs": [
    {
     "name": "stdout",
     "output_type": "stream",
     "text": [
      "\n",
      "This function prints a greeting to the given name.\n",
      "\n",
      "Parameters:\n",
      "name (str): The name of the person to greet. If no name is provided, a generic greeting is printed.\n",
      "\n",
      "Returns:\n",
      "None\n",
      " \n"
     ]
    }
   ],
   "source": [
    "code = inspect.getsource(hello)\n",
    "resp = ask_open_ai(create_prompt(code))\n",
    "print( resp['choices'][0]['text'] )"
   ]
  },
  {
   "cell_type": "code",
   "execution_count": 43,
   "id": "7ef8e2b5-7913-4777-a8b7-5b02538a7a41",
   "metadata": {},
   "outputs": [],
   "source": [
    "\n",
    "## note you need to have a standard python file named (functions_without_docstrings.py) in \n",
    "## the same route path as this notebook in order to replace all the functions without docstrings with \n",
    "## a new file with code comment doc strings. \n",
    "import functions_without_docstrings\n",
    "functions_with_prompts = []\n",
    "functions_to_prompt = functions_without_docstrings\n",
    "all_functions = get_all_functions(functions_without_docstrings)"
   ]
  },
  {
   "cell_type": "code",
   "execution_count": 44,
   "id": "ff19bf96-082c-461c-b47c-89134d953d98",
   "metadata": {},
   "outputs": [
    {
     "name": "stdout",
     "output_type": "stream",
     "text": [
      "Updating file functions_without_docstrings with doc strings to functions_with_docstring.py\n",
      "Updating file functions_without_docstrings with doc strings to functions_with_docstring.py\n",
      "Updating file functions_without_docstrings with doc strings to functions_with_docstring.py\n",
      "Updating file functions_without_docstrings with doc strings to functions_with_docstring.py\n",
      "Updating file functions_without_docstrings with doc strings to functions_with_docstring.py\n"
     ]
    }
   ],
   "source": [
    "### Create a prompt for each function in the functions_without_docstrings file and ###\n",
    "### Run the prompts through the model and store the results in an output file called functions_without_docstrings_ ###\n",
    "for func in all_functions:\n",
    "    code = inspect.getsource(func[1])\n",
    "    prompt = create_prompt(code)\n",
    "    response = ask_open_ai(prompt)\n",
    "    merged_code = merge_docstring_and_function(code, response[\"choices\"][0][\"text\"])\n",
    "    functions_with_prompts.append(merged_code)\n",
    "    file_name = Path(functions_to_prompt.__file__).stem\n",
    "    file_output = 'functions_with_docstring.py'\n",
    "    print(f\"Updating file {file_name} with doc strings to {file_output}\")\n",
    "    with open(f\"{file_output}\", \"w\") as f:\n",
    "        f.write(\"\\n\\n\".join(functions_with_prompts))"
   ]
  },
  {
   "cell_type": "code",
   "execution_count": null,
   "id": "a8e4c7d0-1a09-4aee-a7a6-7d3b89c3e3eb",
   "metadata": {},
   "outputs": [],
   "source": []
  }
 ],
 "metadata": {
  "kernelspec": {
   "display_name": "Python 3 (ipykernel)",
   "language": "python",
   "name": "python3"
  },
  "language_info": {
   "codemirror_mode": {
    "name": "ipython",
    "version": 3
   },
   "file_extension": ".py",
   "mimetype": "text/x-python",
   "name": "python",
   "nbconvert_exporter": "python",
   "pygments_lexer": "ipython3",
   "version": "3.11.2"
  }
 },
 "nbformat": 4,
 "nbformat_minor": 5
}
