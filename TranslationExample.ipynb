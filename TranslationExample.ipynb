{
 "cells": [
  {
   "cell_type": "markdown",
   "id": "aee69447-1cf0-4a37-8026-c7370f7c1cc0",
   "metadata": {},
   "source": [
    "####  Translation Text\n",
    " - open ai is not trained for translation but you can use simple text completion tools to translation news headlines\n",
    " - open ai is good at translation form another lang. to english not the otherway around becuase it was trained on english"
   ]
  },
  {
   "cell_type": "code",
   "execution_count": 3,
   "id": "44ea219c-5b31-42d3-beba-c8031eb9e0ad",
   "metadata": {},
   "outputs": [],
   "source": [
    "import os \n",
    "import openai\n",
    "import requests\n",
    "import bs4 ## beautifulsoup"
   ]
  },
  {
   "cell_type": "code",
   "execution_count": 22,
   "id": "bb358953-b697-41d6-b5df-c93db25529b3",
   "metadata": {},
   "outputs": [],
   "source": [
    "openai.api_key = os.environ[\"OPENAI_KEY\"]"
   ]
  },
  {
   "cell_type": "code",
   "execution_count": 36,
   "id": "4c9afc9d-e137-4a16-94bf-e7593a52f8a8",
   "metadata": {},
   "outputs": [],
   "source": [
    "def ask_open_ai(prompt):\n",
    "    res = openai.Completion.create(model= \"text-davinci-003\",\n",
    "                                   prompt = prompt,\n",
    "                                   temperature = 0.2,\n",
    "                                   top_p = 1.0,\n",
    "                                   max_tokens = 256)\n",
    "    return res\n",
    "\n",
    "def create_prompt(headlines):\n",
    "    cmd = \"Detect the language of the news headlines below, then translate a summary of the headlines to English in a conversational tone\\n\"\n",
    "    prompt = cmd + headlines\n",
    "    return prompt\n",
    "    "
   ]
  },
  {
   "cell_type": "code",
   "execution_count": 4,
   "id": "0da548d4-2ba0-448a-8b01-8153a9a2c3fa",
   "metadata": {},
   "outputs": [
    {
     "name": "stdin",
     "output_type": "stream",
     "text": [
      ">> What country do you want headlines from ( Spain, france, Italy) Spain\n"
     ]
    }
   ],
   "source": [
    "country = input(\">> What country do you want headlines from ( Spain, france, Italy)\")"
   ]
  },
  {
   "cell_type": "code",
   "execution_count": 23,
   "id": "34868229-a67f-45d0-a6dd-9f55bf349893",
   "metadata": {},
   "outputs": [],
   "source": [
    "news = { \"FRANCE\": { 'url': 'https://www.lemonde.fr/', 'tag': 'h2.c_t' }, \n",
    "         \"SPAIN\": { 'url' : 'https://elpais.com/?ed=es','tag': '.article__title'}, \n",
    "         \"ITALY\": { 'url': \"https://www.repubblica.it/\", 'tag': '.entry__title'}  \n",
    "        }"
   ]
  },
  {
   "cell_type": "code",
   "execution_count": 19,
   "id": "8c5bceef-5b84-4f9b-8dc2-ac3f7422a942",
   "metadata": {},
   "outputs": [],
   "source": [
    "news_data = news[country.strip().upper()]"
   ]
  },
  {
   "cell_type": "code",
   "execution_count": 21,
   "id": "492baddb-8176-4e66-9719-fd17467a83a3",
   "metadata": {},
   "outputs": [
    {
     "name": "stdout",
     "output_type": "stream",
     "text": [
      "https://elpais.com/?ed=es\n"
     ]
    }
   ],
   "source": [
    "print(news_data['url'])\n",
    "link = news_data['url']"
   ]
  },
  {
   "cell_type": "code",
   "execution_count": 8,
   "id": "0abb6f86-7ae4-47ff-b502-e489a40f6647",
   "metadata": {},
   "outputs": [],
   "source": [
    "result = requests.get(link)"
   ]
  },
  {
   "cell_type": "code",
   "execution_count": 10,
   "id": "81f0a918-e6ca-4e9a-bc36-ff3d0f0bb301",
   "metadata": {},
   "outputs": [],
   "source": [
    "## result.text Spain tags == h2 c_t"
   ]
  },
  {
   "cell_type": "code",
   "execution_count": 14,
   "id": "9b8b068a-14d8-427d-a34c-757ba284c0d7",
   "metadata": {},
   "outputs": [],
   "source": [
    "tag  = 'h2.c_t'"
   ]
  },
  {
   "cell_type": "code",
   "execution_count": 12,
   "id": "a5e45f32-b1bf-474e-a5dd-9f458ad5e768",
   "metadata": {},
   "outputs": [],
   "source": [
    "markup = bs4.BeautifulSoup(result.text, 'lxml')"
   ]
  },
  {
   "cell_type": "code",
   "execution_count": 15,
   "id": "806060bc-833b-43f4-ad2a-341726fdd5b3",
   "metadata": {},
   "outputs": [],
   "source": [
    "headlines = markup.select( tag )"
   ]
  },
  {
   "cell_type": "code",
   "execution_count": 39,
   "id": "20537d6f-916e-4200-ba87-a526267c1e78",
   "metadata": {},
   "outputs": [
    {
     "name": "stdout",
     "output_type": "stream",
     "text": [
      "Los ecuatorianos buscan un presidente que les devuelva su país\n",
      "Elecciones en Ecuador 2023: candidatos, propuestas, dónde votar y qué está pasando en el país\n",
      "Las campañas del ‘outsider’ Arévalo y la ex primera dama Torres escenifican el dilema de Guatemala\n"
     ]
    }
   ],
   "source": [
    "headline_promps = \"\"\n",
    "headline_count = 1\n",
    "for headline in headlines[:3]:\n",
    "    print(headline.getText())\n",
    "    headline_promps += f\"{headline.getText()}\\n\"\n",
    "    headline_count += 1"
   ]
  },
  {
   "cell_type": "code",
   "execution_count": 40,
   "id": "dc493eae-1cdd-4332-910e-63acc361d490",
   "metadata": {},
   "outputs": [],
   "source": [
    "prompt = create_prompt(headline_promps)"
   ]
  },
  {
   "cell_type": "code",
   "execution_count": 41,
   "id": "5bc95b28-a8ca-453e-99e6-5b17508609f6",
   "metadata": {},
   "outputs": [
    {
     "data": {
      "text/plain": [
       "'Detect the language of the news headlines below, then translate a summary of the headlines to English in a conversational tone\\nLos ecuatorianos buscan un presidente que les devuelva su país\\nElecciones en Ecuador 2023: candidatos, propuestas, dónde votar y qué está pasando en el país\\nLas campañas del ‘outsider’ Arévalo y la ex primera dama Torres escenifican el dilema de Guatemala\\n'"
      ]
     },
     "execution_count": 41,
     "metadata": {},
     "output_type": "execute_result"
    }
   ],
   "source": [
    "prompt"
   ]
  },
  {
   "cell_type": "code",
   "execution_count": 42,
   "id": "4efbacc0-83c2-4fa2-9b4e-ae63b1dc39cc",
   "metadata": {},
   "outputs": [],
   "source": [
    "resp = ask_open_ai(prompt)"
   ]
  },
  {
   "cell_type": "code",
   "execution_count": 43,
   "id": "a16dc1ba-405e-49b5-81c1-2093a4d5de04",
   "metadata": {},
   "outputs": [
    {
     "name": "stdout",
     "output_type": "stream",
     "text": [
      "\n",
      "Language: Spanish\n",
      "\n",
      "The people of Ecuador are looking for a president who can restore their country. Elections in Ecuador in 2023 will feature candidates, proposals, and information on where to vote. The campaigns of 'outsider' Arévalo and former first lady Torres are highlighting the dilemma facing Guatemala.\n"
     ]
    }
   ],
   "source": [
    "print(resp['choices'][0]['text'])"
   ]
  },
  {
   "cell_type": "code",
   "execution_count": null,
   "id": "25bd3a49-bf38-4408-8d55-582d1ff18586",
   "metadata": {},
   "outputs": [],
   "source": []
  }
 ],
 "metadata": {
  "kernelspec": {
   "display_name": "Python 3 (ipykernel)",
   "language": "python",
   "name": "python3"
  },
  "language_info": {
   "codemirror_mode": {
    "name": "ipython",
    "version": 3
   },
   "file_extension": ".py",
   "mimetype": "text/x-python",
   "name": "python",
   "nbconvert_exporter": "python",
   "pygments_lexer": "ipython3",
   "version": "3.11.2"
  }
 },
 "nbformat": 4,
 "nbformat_minor": 5
}
