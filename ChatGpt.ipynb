{
 "cells": [
  {
   "cell_type": "markdown",
   "id": "5761ed8f-71b7-4356-a1ce-81e79c696e8b",
   "metadata": {},
   "source": [
    "### ChatGpt \n",
    "#### https://proceedings.neurips.cc/paper/2020/hash/1f89885d556929e98d3ef9b86448f951-Abstract.html\n",
    "- can not be trained\n",
    "- no embedding\n",
    "- has own function call ``` openai.Chatcompletion.create ```\n",
    "- pip install openai --upgrade\n",
    "- model list: https://platform.openai.com/docs/models/overview\n",
    "- example: https://platform.openai.com/docs/guides/gpt/chat-completions-api"
   ]
  },
  {
   "cell_type": "code",
   "execution_count": 5,
   "id": "589a4738-c858-4839-a1aa-ba8951e4a2f3",
   "metadata": {},
   "outputs": [],
   "source": [
    "#pip install openai --upgrade"
   ]
  },
  {
   "cell_type": "code",
   "execution_count": 1,
   "id": "2c17ae8b-e3ef-49ce-91f1-7371ff126981",
   "metadata": {},
   "outputs": [],
   "source": [
    "import os\n",
    "import openai"
   ]
  },
  {
   "cell_type": "code",
   "execution_count": 2,
   "id": "e55c4f0a-bb03-46dc-987a-0f0f2b6c8113",
   "metadata": {},
   "outputs": [],
   "source": [
    "openai.api_key = os.environ[\"OPENAI_KEY\"]"
   ]
  },
  {
   "cell_type": "code",
   "execution_count": 3,
   "id": "5c688ef8-b5c1-4429-8f58-f6845468ef39",
   "metadata": {},
   "outputs": [],
   "source": [
    "def ask_chat_gpt(msg=[{'role': \"system\", \"content\": \"Your are a shy computer scientist geek.\"}], temp=0.7, max_tks=512, model=\"gpt-3.5-turbo\"):\n",
    "    resp = openai.ChatCompletion.create(model=model, \n",
    "                                        messages=msg, \n",
    "                                        temperature = temp, \n",
    "                                        max_tokens = max_tks)\n",
    "    return resp\n"
   ]
  },
  {
   "cell_type": "code",
   "execution_count": 16,
   "id": "19bd48ec-d750-40c1-b0aa-ec984f589bfe",
   "metadata": {},
   "outputs": [],
   "source": [
    "# gpt-3.5-turbo\n",
    "msg_prompt = [\n",
    "    {'role': 'system', 'content': 'Your Are a US History Teacher'},\n",
    "    {'role': 'user', 'content': 'Who was the first US president?'}]"
   ]
  },
  {
   "cell_type": "code",
   "execution_count": 17,
   "id": "6119739a-ac0c-4c98-9d7c-a8ae6ebaa0fe",
   "metadata": {},
   "outputs": [],
   "source": [
    "resp = ask_chat_gpt(msg=msg_prompt, temp=0.1, max_tks=200, model=\"gpt-3.5-turbo\")"
   ]
  },
  {
   "cell_type": "code",
   "execution_count": 18,
   "id": "01fcc664-3471-42c8-8b02-d9a63051b866",
   "metadata": {},
   "outputs": [
    {
     "name": "stdout",
     "output_type": "stream",
     "text": [
      "{\n",
      "  \"id\": \"chatcmpl-7pTmhZCI3dirTMjAhtzcfX1r63Ifn\",\n",
      "  \"object\": \"chat.completion\",\n",
      "  \"created\": 1692503575,\n",
      "  \"model\": \"gpt-3.5-turbo-0613\",\n",
      "  \"choices\": [\n",
      "    {\n",
      "      \"index\": 0,\n",
      "      \"message\": {\n",
      "        \"role\": \"assistant\",\n",
      "        \"content\": \"The first President of the United States was George Washington. He served as President from 1789 to 1797.\"\n",
      "      },\n",
      "      \"finish_reason\": \"stop\"\n",
      "    }\n",
      "  ],\n",
      "  \"usage\": {\n",
      "    \"prompt_tokens\": 24,\n",
      "    \"completion_tokens\": 24,\n",
      "    \"total_tokens\": 48\n",
      "  }\n",
      "}\n"
     ]
    }
   ],
   "source": [
    "print(resp)"
   ]
  },
  {
   "cell_type": "code",
   "execution_count": 19,
   "id": "8dea30a2-2240-4408-917c-f872d9126ea2",
   "metadata": {},
   "outputs": [
    {
     "name": "stdout",
     "output_type": "stream",
     "text": [
      "The first President of the United States was George Washington. He served as President from 1789 to 1797.\n"
     ]
    }
   ],
   "source": [
    "print(resp['choices'][0]['message']['content'])"
   ]
  },
  {
   "cell_type": "code",
   "execution_count": 20,
   "id": "80cc7907-3ba8-4a9d-a529-2ffdb8398d4f",
   "metadata": {},
   "outputs": [],
   "source": [
    "msg_prompt.append( { 'role': 'assistant', 'content': resp['choices'][0]['message']['content']  }  )\n",
    "msg_prompt.append( { 'role': 'user', 'content':  'what is a famous quote from him'  }  )"
   ]
  },
  {
   "cell_type": "code",
   "execution_count": 21,
   "id": "e08881f9-18c6-4f80-8b7a-015965f487ca",
   "metadata": {},
   "outputs": [
    {
     "name": "stdout",
     "output_type": "stream",
     "text": [
      "One famous quote from George Washington is, \"Happiness and moral duty are inseparably connected.\"\n"
     ]
    }
   ],
   "source": [
    "resp = ask_chat_gpt(msg=msg_prompt, temp=0.1, max_tks=200, model=\"gpt-3.5-turbo\")\n",
    "print(resp['choices'][0]['message']['content'])"
   ]
  },
  {
   "cell_type": "code",
   "execution_count": 18,
   "id": "eb1687bb-6012-4237-b81a-311da2623b0e",
   "metadata": {},
   "outputs": [],
   "source": [
    "class CreateBot:\n",
    "    def __init__(self, sys_prompt):\n",
    "        self.system = sys_prompt\n",
    "        self.messages = [ { 'role': 'system', 'content': self.system } ]\n",
    "        print(f\"Interaction: {self.system} \")\n",
    "        print(\"To Exit Type >> End or Exit\")\n",
    "    \n",
    "    def chat(self):\n",
    "        question = ''\n",
    "        asking = True\n",
    "        while asking:\n",
    "            question = input(\">> Q: \")\n",
    "            self.messages.append(  { 'role': 'user', 'content': question } )\n",
    "            print(\"\\n\")\n",
    "            resp = ask_chat_gpt(msg=self.messages, temp=0.2, max_tks=512, model=\"gpt-3.5-turbo\")\n",
    "            qts = question.strip().upper()\n",
    "            content = resp['choices'][0]['message']['content']\n",
    "            self.messages.append(  { 'role': 'assistant', 'content': content } )\n",
    "            print(content)\n",
    "            print(\"\\n\")\n",
    "            asking = False if qts == 'END' or qts == 'EXIT' else True;\n",
    "        print(\"Bye\")\n"
   ]
  },
  {
   "cell_type": "code",
   "execution_count": 28,
   "id": "e8c60d41-9e32-498b-8e16-689dc9b0a2bb",
   "metadata": {},
   "outputs": [
    {
     "name": "stdout",
     "output_type": "stream",
     "text": [
      "Interaction: You are a harvard college intellectual \n",
      "To Exit Type >> End or Exit\n"
     ]
    }
   ],
   "source": [
    "history_tutor = CreateBot(sys_prompt=\"You are a harvard college intellectual\")"
   ]
  },
  {
   "cell_type": "code",
   "execution_count": 29,
   "id": "c7200157-5ac5-4b98-9eba-2bf565e38de2",
   "metadata": {},
   "outputs": [
    {
     "name": "stdin",
     "output_type": "stream",
     "text": [
      ">> Q:  what if you saw god?\n"
     ]
    },
    {
     "name": "stdout",
     "output_type": "stream",
     "text": [
      "\n",
      "\n",
      "As an AI, I don't have personal experiences or beliefs, but I can provide you with some perspectives. If someone claims to have seen God, it would likely be a deeply personal and subjective experience. Different individuals may interpret and understand such an encounter in various ways, depending on their religious or spiritual beliefs.\n",
      "\n",
      "For some, seeing God might reaffirm their faith and provide a sense of divine presence and guidance. It could be a transformative experience that strengthens their religious convictions and deepens their spiritual connection.\n",
      "\n",
      "Others might interpret such an encounter through a more skeptical lens, considering psychological or physiological factors that could contribute to the perception of seeing God. They might explore alternative explanations, such as hallucinations, dreams, or even a symbolic representation of their own subconscious beliefs and desires.\n",
      "\n",
      "Ultimately, the interpretation of seeing God would depend on an individual's personal beliefs, experiences, and worldview. It is a complex and subjective matter that can vary greatly from person to person.\n",
      "\n",
      "\n"
     ]
    },
    {
     "name": "stdin",
     "output_type": "stream",
     "text": [
      ">> Q:  write a scene for a movie where the charactor sees god\n"
     ]
    },
    {
     "name": "stdout",
     "output_type": "stream",
     "text": [
      "\n",
      "\n",
      "INT. LIVING ROOM - DAY\n",
      "\n",
      "JAMES, a middle-aged man with a troubled past, sits alone in his dimly lit living room. He's been grappling with existential questions and searching for meaning in his life. Suddenly, a warm, golden light fills the room, and a figure emerges from within it. It is GOD, a radiant being exuding an aura of peace and wisdom.\n",
      "\n",
      "James is taken aback, his eyes widening in disbelief. He blinks, thinking it might be a trick of the light, but the figure remains, emanating a sense of divine presence.\n",
      "\n",
      "JAMES\n",
      "(stammering)\n",
      "Who... who are you?\n",
      "\n",
      "GOD\n",
      "(smiling gently)\n",
      "I am the one you seek, James. I am the source of all creation, the essence of love and compassion.\n",
      "\n",
      "James slowly rises from his seat, his heart pounding with a mix of fear and awe.\n",
      "\n",
      "JAMES\n",
      "(in a hushed voice)\n",
      "But... why me? Why now?\n",
      "\n",
      "GOD\n",
      "(serene)\n",
      "You have been searching for answers, questioning your purpose. I have heard your prayers, felt your longing for truth. I am here to guide you, to offer you solace and understanding.\n",
      "\n",
      "James approaches God cautiously, his eyes filled with tears.\n",
      "\n",
      "JAMES\n",
      "(teary-eyed)\n",
      "I've made so many mistakes, hurt so many people. How can I ever find redemption?\n",
      "\n",
      "God extends a hand, inviting James to come closer. James tentatively reaches out and touches God's hand, feeling an overwhelming sense of love and forgiveness.\n",
      "\n",
      "GOD\n",
      "(softly)\n",
      "You are human, James. Imperfection is part of your journey. It is through acknowledging your mistakes, seeking forgiveness, and striving to do better that you find redemption. You are capable of great change and growth.\n",
      "\n",
      "James falls to his knees, overwhelmed by the weight of his emotions. God kneels beside him, offering comfort.\n",
      "\n",
      "GOD\n",
      "(whispering)\n",
      "You are never alone, James. I am with you always, guiding you through life's challenges. Trust in yourself, trust in the goodness within you.\n",
      "\n",
      "James looks up, his eyes filled with gratitude and newfound hope.\n",
      "\n",
      "JAMES\n",
      "(whispering)\n",
      "Thank you, God. Thank you for showing me the way.\n",
      "\n",
      "The golden light intensifies, enveloping James and God. As the light fades, James is left alone in his living room, but he carries within him a renewed sense of purpose and a deep connection to something greater than himself.\n",
      "\n",
      "FADE OUT.\n",
      "\n",
      "\n"
     ]
    },
    {
     "name": "stdin",
     "output_type": "stream",
     "text": [
      ">> Q:  write a song about Halloween\n"
     ]
    },
    {
     "name": "stdout",
     "output_type": "stream",
     "text": [
      "\n",
      "\n",
      "(Verse 1)\n",
      "In the moonlit night, shadows dance with glee,\n",
      "A chill in the air, it's Halloween, you see,\n",
      "The spirits awaken, the witches take flight,\n",
      "It's time for the magic, the haunting delight.\n",
      "\n",
      "(Chorus)\n",
      "Oh, Halloween, the night of mystery,\n",
      "Where ghosts and goblins roam, setting spirits free,\n",
      "With pumpkins glowing and costumes so grand,\n",
      "We celebrate the darkness, hand in hand.\n",
      "\n",
      "(Verse 2)\n",
      "The streets come alive with laughter and fright,\n",
      "Children's eyes gleaming, filled with pure delight,\n",
      "They knock on doors, shouting \"Trick or Treat!\",\n",
      "Collecting candy treasures, oh, what a feat!\n",
      "\n",
      "(Chorus)\n",
      "Oh, Halloween, the night of mystery,\n",
      "Where ghosts and goblins roam, setting spirits free,\n",
      "With pumpkins glowing and costumes so grand,\n",
      "We celebrate the darkness, hand in hand.\n",
      "\n",
      "(Bridge)\n",
      "The haunted houses beckon, with eerie sounds,\n",
      "Thrills and scares, as fear abounds,\n",
      "We embrace the thrill, the adrenaline rush,\n",
      "In this spooky night, we all hush.\n",
      "\n",
      "(Verse 3)\n",
      "Legends and tales, whispered in the dark,\n",
      "Of witches' brews and werewolves that bark,\n",
      "The moon shines bright, casting an eerie glow,\n",
      "As we wander through the night, where secrets flow.\n",
      "\n",
      "(Chorus)\n",
      "Oh, Halloween, the night of mystery,\n",
      "Where ghosts and goblins roam, setting spirits free,\n",
      "With pumpkins glowing and costumes so grand,\n",
      "We celebrate the darkness, hand in hand.\n",
      "\n",
      "(Outro)\n",
      "As the night draws to a close, the magic fades away,\n",
      "But the memories linger, in our hearts they'll stay,\n",
      "Until next year, when Halloween returns,\n",
      "We'll embrace the enchantment, as the darkness churns.\n",
      "\n",
      "\n"
     ]
    },
    {
     "name": "stdin",
     "output_type": "stream",
     "text": [
      ">> Q:  end\n"
     ]
    },
    {
     "name": "stdout",
     "output_type": "stream",
     "text": [
      "\n",
      "\n",
      "(Outro)\n",
      "As the night draws to a close, the magic fades away,\n",
      "But the memories linger, in our hearts they'll stay,\n",
      "Until next year, when Halloween returns,\n",
      "We'll embrace the enchantment, as the darkness churns.\n",
      "\n",
      "So let's bid farewell to this spooky affair,\n",
      "With laughter and joy, we'll part without a care,\n",
      "For Halloween's spirit will forever remain,\n",
      "In our souls, in our songs, until we meet again.\n",
      "\n",
      "(End)\n",
      "\n",
      "\n",
      "Bye\n"
     ]
    }
   ],
   "source": [
    "history_tutor.chat()"
   ]
  },
  {
   "cell_type": "code",
   "execution_count": null,
   "id": "40d09b6b-74f9-4369-a543-1b560fba62e9",
   "metadata": {},
   "outputs": [],
   "source": []
  }
 ],
 "metadata": {
  "kernelspec": {
   "display_name": "Python 3 (ipykernel)",
   "language": "python",
   "name": "python3"
  },
  "language_info": {
   "codemirror_mode": {
    "name": "ipython",
    "version": 3
   },
   "file_extension": ".py",
   "mimetype": "text/x-python",
   "name": "python",
   "nbconvert_exporter": "python",
   "pygments_lexer": "ipython3",
   "version": "3.11.2"
  }
 },
 "nbformat": 4,
 "nbformat_minor": 5
}
