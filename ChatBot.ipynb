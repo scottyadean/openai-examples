{
 "cells": [
  {
   "cell_type": "markdown",
   "id": "ec5c5571-9901-4e18-9342-bc6d1d6c3583",
   "metadata": {},
   "source": [
    "### Fine Tuning Chatbots formating data with prompt and completion key\n",
    " - dataset: a section of the kaggle data consisting of stackoverflow python questions\n",
    " - [OpenAI-Fine-Tuning](\n",
    "https://platform.openai.com/docs/guides/fine-tunin)\n",
    " - [Trouble-Shooting-Command-Line-Tool](https://community.openai.com/t/unable-to-run-the-command-line-interface-cli-for-openai/6197/12)7/12"
   ]
  },
  {
   "cell_type": "code",
   "execution_count": 9,
   "id": "b49e7187-4e15-4bb1-8b5b-3d725a9cc38a",
   "metadata": {},
   "outputs": [],
   "source": [
    "#!pip install tiktoken"
   ]
  },
  {
   "cell_type": "code",
   "execution_count": 19,
   "id": "1911576d-da94-4133-abe9-71502a9873ed",
   "metadata": {},
   "outputs": [],
   "source": [
    "import os\n",
    "import json\n",
    "import openai\n",
    "import tiktoken\n",
    "import pandas as pd"
   ]
  },
  {
   "cell_type": "code",
   "execution_count": 2,
   "id": "4d517aff-2176-48d4-b9e4-bbfe82188065",
   "metadata": {},
   "outputs": [],
   "source": [
    "openai.api_key = os.environ[\"OPENAI_KEY\"]"
   ]
  },
  {
   "cell_type": "code",
   "execution_count": 31,
   "id": "1a87c2d5-1177-4398-b645-789007264a36",
   "metadata": {},
   "outputs": [],
   "source": [
    "def ask_open_ai(prompt, model=\"text-davinci-003\"): ## \"text-babbage-001\"\n",
    "    res = openai.Completion.create(model = model,\n",
    "                                   prompt = prompt,\n",
    "                                   temperature = 0,\n",
    "                                   max_tokens = 256)\n",
    "    return res\n",
    "\n",
    "def token_number_count(val, encode_name):\n",
    "    encoding = tiktoken.get_encoding(encode_name)\n",
    "    num = len(encoding.encode(val))\n",
    "    return num"
   ]
  },
  {
   "cell_type": "code",
   "execution_count": 14,
   "id": "31cae5a5-596c-46cf-918e-a3aca1aa7f97",
   "metadata": {},
   "outputs": [],
   "source": [
    "df = pd.read_csv(\"./data/fine_tune_qa.csv\")"
   ]
  },
  {
   "cell_type": "code",
   "execution_count": 15,
   "id": "0bcabf9d-493f-4505-9553-cf409cd2fecc",
   "metadata": {},
   "outputs": [],
   "source": [
    "qst, aws = df['Body'], df['Answer']"
   ]
  },
  {
   "cell_type": "code",
   "execution_count": 18,
   "id": "c12890e6-a113-4f85-9bf7-57920973d134",
   "metadata": {},
   "outputs": [],
   "source": [
    "qa_openai_format = [ { 'prompt': q, 'completion':a  } for q,a in zip( qst, aws ) ] \n",
    "#qa_openai_format[2]"
   ]
  },
  {
   "cell_type": "code",
   "execution_count": 29,
   "id": "f399abe1-818f-4733-a8c3-0a3461b924f8",
   "metadata": {},
   "outputs": [],
   "source": [
    "data_size = 500\n",
    "count = 1"
   ]
  },
  {
   "cell_type": "code",
   "execution_count": 26,
   "id": "5d914928-9bcb-4035-976b-868766e434dc",
   "metadata": {},
   "outputs": [],
   "source": [
    "with open(\"./data/fine_tune_training_data.json\", \"w\") as _f:\n",
    "    _f.write(\"[\\n\")\n",
    "    for entry in qa_openai_format[:data_size]:\n",
    "        _f.write(json.dumps(entry))\n",
    "        _f.write(\"\\n\")\n",
    "        if count < data_size:\n",
    "            _f.write(\",\")\n",
    "        count += 1\n",
    "    _f.write(\"]\")"
   ]
  },
  {
   "cell_type": "code",
   "execution_count": 36,
   "id": "73bc7c90-3800-4bc3-985a-51e78f5072c9",
   "metadata": {},
   "outputs": [],
   "source": [
    "# example cost\n",
    "token_counter = 0 # $0.0006 per 1000 tokens (training) * 4 epochs"
   ]
  },
  {
   "cell_type": "code",
   "execution_count": 37,
   "id": "f61a43cf-8308-433a-8694-6adf817c623b",
   "metadata": {},
   "outputs": [],
   "source": [
    "for val in qa_openai_format:\n",
    "    for k, v in val.items():\n",
    "        token_counter += token_number_count(k, 'gpt2')\n",
    "        token_counter += token_number_count(v, 'gpt2')\n"
   ]
  },
  {
   "cell_type": "code",
   "execution_count": 34,
   "id": "778fc055-f6fe-4ea4-9bde-0b012087168c",
   "metadata": {},
   "outputs": [],
   "source": [
    "price = 0.0006*4*token_counter/1000"
   ]
  },
  {
   "cell_type": "code",
   "execution_count": 35,
   "id": "fb69ac0e-7fa0-4b54-b684-f79200670bbc",
   "metadata": {},
   "outputs": [
    {
     "name": "stdout",
     "output_type": "stream",
     "text": [
      "6.526531199999999\n"
     ]
    }
   ],
   "source": [
    "print(price)"
   ]
  },
  {
   "cell_type": "code",
   "execution_count": 40,
   "id": "fc351458-a140-46a6-9ff4-5558a413df58",
   "metadata": {},
   "outputs": [],
   "source": [
    "# go to console and use the openai api command line tool to run the traning set\n",
    "#!pip install --upgrade openai\n",
    "# openai api fine_tunes.create -t \"./data/fine_tune_training_data.json\" -m babbage\n",
    "# openai api fine_tunes.follow -i <ft-xxxxxxxxxxxxxxxx>"
   ]
  },
  {
   "cell_type": "code",
   "execution_count": 41,
   "id": "74c89982-91f2-45f7-a77e-826676a7136f",
   "metadata": {},
   "outputs": [],
   "source": [
    "# ask_open_ai(prompt, model=\"text-babbage-<your-traning-id\")"
   ]
  },
  {
   "cell_type": "code",
   "execution_count": null,
   "id": "064ce9de-394a-48f8-af48-7300ffe00fbb",
   "metadata": {},
   "outputs": [],
   "source": []
  }
 ],
 "metadata": {
  "kernelspec": {
   "display_name": "Python 3 (ipykernel)",
   "language": "python",
   "name": "python3"
  },
  "language_info": {
   "codemirror_mode": {
    "name": "ipython",
    "version": 3
   },
   "file_extension": ".py",
   "mimetype": "text/x-python",
   "name": "python",
   "nbconvert_exporter": "python",
   "pygments_lexer": "ipython3",
   "version": "3.11.2"
  }
 },
 "nbformat": 4,
 "nbformat_minor": 5
}
