{
 "cells": [
  {
   "cell_type": "code",
   "execution_count": 18,
   "id": "8d95cddb-88f8-494f-8478-146a9ebffbcf",
   "metadata": {},
   "outputs": [],
   "source": [
    "import os \n",
    "import openai\n",
    "import pprint\n",
    "pp = pprint.PrettyPrinter(depth=10)"
   ]
  },
  {
   "cell_type": "code",
   "execution_count": 4,
   "id": "7654f2dd-e5d2-4edc-8326-a81a4e763154",
   "metadata": {},
   "outputs": [],
   "source": [
    "openai.api_key = os.environ[\"OPENAI_KEY\"]"
   ]
  },
  {
   "cell_type": "code",
   "execution_count": 6,
   "id": "9f08778c-92a6-4889-9f1b-ac9905e2644f",
   "metadata": {},
   "outputs": [],
   "source": [
    "def askOpenAI(prompt):\n",
    "    res = openai.Completion.create(model=\"text-davinci-003\",\n",
    "                                   prompt = prompt,\n",
    "                                   temperature = 0.7,\n",
    "                                   max_tokens = 300)\n",
    "    return res"
   ]
  },
  {
   "cell_type": "code",
   "execution_count": 7,
   "id": "5c28207f-80ae-4035-b571-9d33297df9de",
   "metadata": {},
   "outputs": [],
   "source": [
    "prompt =\"\"\"Give me details about the technology company native american tours\"\"\""
   ]
  },
  {
   "cell_type": "code",
   "execution_count": 8,
   "id": "492ab658-e591-4cf0-9991-3a1de40bd57b",
   "metadata": {},
   "outputs": [],
   "source": [
    "res = askOpenAI(prompt)"
   ]
  },
  {
   "cell_type": "code",
   "execution_count": 9,
   "id": "f47dd99f-f6b2-498a-82d3-2d49f6e637a0",
   "metadata": {},
   "outputs": [
    {
     "data": {
      "text/plain": [
       "<OpenAIObject text_completion id=cmpl-7mzaeb5RzfRW5vOAf67R8UJdwA3Mc at 0x1ce35205d30> JSON: {\n",
       "  \"warning\": \"This model version is deprecated. Migrate before January 4, 2024 to avoid disruption of service. Learn more https://platform.openai.com/docs/deprecations\",\n",
       "  \"id\": \"cmpl-7mzaeb5RzfRW5vOAf67R8UJdwA3Mc\",\n",
       "  \"object\": \"text_completion\",\n",
       "  \"created\": 1691910852,\n",
       "  \"model\": \"text-davinci-003\",\n",
       "  \"choices\": [\n",
       "    {\n",
       "      \"text\": \"\\n\\nNative American Tours is a technology-based booking platform that provides a convenient way for people to book and manage their Native American cultural experience. The company was founded in 2014 with the mission to make it easy for people to plan and book Native American cultural experiences. Native American Tours offers a range of services, including booking hotels, airfare, and ground transportation, and providing customers with an online platform to book and manage their Native American cultural experience. The company also has an online store where customers can purchase Native American-inspired merchandise. Native American Tours also provides an online forum for customers to connect and share their experiences with other travelers.\",\n",
       "      \"index\": 0,\n",
       "      \"logprobs\": null,\n",
       "      \"finish_reason\": \"stop\"\n",
       "    }\n",
       "  ],\n",
       "  \"usage\": {\n",
       "    \"prompt_tokens\": 11,\n",
       "    \"completion_tokens\": 127,\n",
       "    \"total_tokens\": 138\n",
       "  }\n",
       "}"
      ]
     },
     "execution_count": 9,
     "metadata": {},
     "output_type": "execute_result"
    }
   ],
   "source": [
    "res"
   ]
  },
  {
   "cell_type": "code",
   "execution_count": 27,
   "id": "a8c09bd0-7471-4842-9e22-da695a38d633",
   "metadata": {},
   "outputs": [],
   "source": [
    "def create_quiz(topic, qnum, anum):\n",
    "    prompt = f\"\"\" \n",
    "    Create a multiple chice quiz on the topic of {topic}\\n\n",
    "    consisting of {qnum} of questions\\n\n",
    "    each question should have {anum} options\\n\n",
    "    also include the correct answer for each question using the statirng string 'Correct Anwser:'\"\"\"\n",
    "    return prompt"
   ]
  },
  {
   "cell_type": "code",
   "execution_count": 54,
   "id": "3486608b-9d8a-4eb4-a38b-49bb895a3fe3",
   "metadata": {},
   "outputs": [],
   "source": [
    "def format_quiz(q, num):\n",
    "    view = {1:''}\n",
    "    qnum = 1\n",
    "    for line in q.split(\"\\n\"):\n",
    "        if \"Correct Answer\" not in line:\n",
    "            view[qnum] += line+\"\\n\"\n",
    "        else:\n",
    "            if qnum < num:\n",
    "                qnum += 1\n",
    "                view[qnum] = \"\"\n",
    "    return view\n",
    "\n",
    "\n",
    "def quiz_key(q, num):\n",
    "    view = {1:''}\n",
    "    anum = 1\n",
    "    for line in q.split(\"\\n\"):\n",
    "        if \"Correct Answer\" in line:\n",
    "            view[anum] += line+\"\\n\"\n",
    "            if anum < num:\n",
    "                anum += 1\n",
    "                view[anum] = \"\"\n",
    "    return view\n",
    "\n"
   ]
  },
  {
   "cell_type": "code",
   "execution_count": 29,
   "id": "7d5fbaf8-2604-4211-aadf-b1b263bbfb68",
   "metadata": {},
   "outputs": [],
   "source": [
    "res = askOpenAI(create_quiz('US History', 4, 3))"
   ]
  },
  {
   "cell_type": "code",
   "execution_count": 38,
   "id": "0a2437ea-0e0d-4a62-9e45-e1327b1aa0fb",
   "metadata": {},
   "outputs": [
    {
     "name": "stdout",
     "output_type": "stream",
     "text": [
      "('\\n'\n",
      " '\\n'\n",
      " '1. The first president of the United States was?\\n'\n",
      " 'A. George Washington \\n'\n",
      " 'B. Thomas Jefferson\\n'\n",
      " 'C. Benjamin Franklin\\n'\n",
      " 'Correct Answer: A. George Washington\\n'\n",
      " '\\n'\n",
      " '2. Who wrote the Declaration of Independence?\\n'\n",
      " 'A. Thomas Jefferson\\n'\n",
      " 'B. Benjamin Franklin\\n'\n",
      " 'C. Alexander Hamilton\\n'\n",
      " 'Correct Answer: A. Thomas Jefferson\\n'\n",
      " '\\n'\n",
      " '3. What year did the American Revolution begin?\\n'\n",
      " 'A. 1776\\n'\n",
      " 'B. 1783\\n'\n",
      " 'C. 1789\\n'\n",
      " 'Correct Answer: A. 1776\\n'\n",
      " '\\n'\n",
      " '4. Who was the longest-serving president of the United States?\\n'\n",
      " 'A. Thomas Jefferson\\n'\n",
      " 'B. Franklin D. Roosevelt\\n'\n",
      " 'C. George Washington\\n'\n",
      " 'Correct Answer: B. Franklin D. Roosevelt')\n"
     ]
    }
   ],
   "source": [
    "pp.pprint(res['choices'][0]['text'])"
   ]
  },
  {
   "cell_type": "code",
   "execution_count": 50,
   "id": "f38a27b2-6696-4da6-bf25-d886e7ed5d6d",
   "metadata": {},
   "outputs": [],
   "source": [
    "test = format_quiz(res['choices'][0]['text'], 4)"
   ]
  },
  {
   "cell_type": "code",
   "execution_count": 51,
   "id": "9ec1e791-5d6a-48be-b713-2dfd8dfdfb9e",
   "metadata": {},
   "outputs": [
    {
     "name": "stdout",
     "output_type": "stream",
     "text": [
      "{1: '\\n'\n",
      "    '\\n'\n",
      "    '1. The first president of the United States was?\\n'\n",
      "    'A. George Washington \\n'\n",
      "    'B. Thomas Jefferson\\n'\n",
      "    'C. Benjamin Franklin\\n',\n",
      " 2: '\\n'\n",
      "    '2. Who wrote the Declaration of Independence?\\n'\n",
      "    'A. Thomas Jefferson\\n'\n",
      "    'B. Benjamin Franklin\\n'\n",
      "    'C. Alexander Hamilton\\n',\n",
      " 3: '\\n'\n",
      "    '3. What year did the American Revolution begin?\\n'\n",
      "    'A. 1776\\n'\n",
      "    'B. 1783\\n'\n",
      "    'C. 1789\\n',\n",
      " 4: '\\n'\n",
      "    '4. Who was the longest-serving president of the United States?\\n'\n",
      "    'A. Thomas Jefferson\\n'\n",
      "    'B. Franklin D. Roosevelt\\n'\n",
      "    'C. George Washington\\n'}\n"
     ]
    }
   ],
   "source": [
    "pp.pprint(test)"
   ]
  },
  {
   "cell_type": "code",
   "execution_count": 55,
   "id": "aa24f7f7-cf14-44e9-9db1-7b53e7e2ed7b",
   "metadata": {},
   "outputs": [
    {
     "name": "stdout",
     "output_type": "stream",
     "text": [
      "{1: 'Correct Answer: A. George Washington\\n',\n",
      " 2: 'Correct Answer: A. Thomas Jefferson\\n',\n",
      " 3: 'Correct Answer: A. 1776\\n',\n",
      " 4: 'Correct Answer: B. Franklin D. Roosevelt\\n'}\n"
     ]
    }
   ],
   "source": [
    "answers = quiz_key(res['choices'][0]['text'], 4)\n",
    "pp.pprint(answers)"
   ]
  },
  {
   "cell_type": "code",
   "execution_count": 82,
   "id": "a02f5131-334c-4241-8e23-0c5644412e25",
   "metadata": {},
   "outputs": [],
   "source": [
    "# TAKE THE Quiz\n",
    "def take_quiz(test):\n",
    "    anws = {}\n",
    "    for key, val in test.items():\n",
    "        print(val)\n",
    "        ipt = input(\">> enter your answer:\")\n",
    "        anws[key] = ipt\n",
    "    return anws\n",
    "\n",
    "def grade_test(aws, correct):\n",
    "    results = []\n",
    "    correct_aws = 0\n",
    "    for key, val in aws.items():\n",
    "        solution = correct[key].split(\" \")[2].replace(\".\", \"\")\n",
    "        awnser = correct[key].replace(\"Correct Answer: \", \"\")\n",
    "        if val.upper() in solution:\n",
    "            score = 1\n",
    "            correct_aws += 1\n",
    "        else:\n",
    "            score = 0\n",
    "            \n",
    "        results.append({ 'question_number': key, 'value': awnser, 'solution': solution, 'user_input' : val, 'score': score })\n",
    "    \n",
    "    grade = 100*correct_aws / len(aws)\n",
    "    return { 'results': results, 'grade' : grade}"
   ]
  },
  {
   "cell_type": "code",
   "execution_count": 57,
   "id": "2c8af218-a644-4472-8753-fe0b3da3e56a",
   "metadata": {},
   "outputs": [
    {
     "name": "stdout",
     "output_type": "stream",
     "text": [
      "\n",
      "\n",
      "1. The first president of the United States was?\n",
      "A. George Washington \n",
      "B. Thomas Jefferson\n",
      "C. Benjamin Franklin\n",
      "\n"
     ]
    },
    {
     "name": "stdin",
     "output_type": "stream",
     "text": [
      ">> enter your answer: A\n"
     ]
    },
    {
     "name": "stdout",
     "output_type": "stream",
     "text": [
      "\n",
      "2. Who wrote the Declaration of Independence?\n",
      "A. Thomas Jefferson\n",
      "B. Benjamin Franklin\n",
      "C. Alexander Hamilton\n",
      "\n"
     ]
    },
    {
     "name": "stdin",
     "output_type": "stream",
     "text": [
      ">> enter your answer: A\n"
     ]
    },
    {
     "name": "stdout",
     "output_type": "stream",
     "text": [
      "\n",
      "3. What year did the American Revolution begin?\n",
      "A. 1776\n",
      "B. 1783\n",
      "C. 1789\n",
      "\n"
     ]
    },
    {
     "name": "stdin",
     "output_type": "stream",
     "text": [
      ">> enter your answer: A\n"
     ]
    },
    {
     "name": "stdout",
     "output_type": "stream",
     "text": [
      "\n",
      "4. Who was the longest-serving president of the United States?\n",
      "A. Thomas Jefferson\n",
      "B. Franklin D. Roosevelt\n",
      "C. George Washington\n",
      "\n"
     ]
    },
    {
     "name": "stdin",
     "output_type": "stream",
     "text": [
      ">> enter your answer: B\n"
     ]
    },
    {
     "data": {
      "text/plain": [
       "{1: 'A', 2: 'A', 3: 'A', 4: 'B'}"
      ]
     },
     "execution_count": 57,
     "metadata": {},
     "output_type": "execute_result"
    }
   ],
   "source": [
    "take_quiz(test)"
   ]
  },
  {
   "cell_type": "code",
   "execution_count": 84,
   "id": "d1e42176-1d20-4034-961a-bdd7a298be04",
   "metadata": {},
   "outputs": [
    {
     "data": {
      "text/plain": [
       "{'results': [{'question_number': 1,\n",
       "   'value': 'A. George Washington\\n',\n",
       "   'solution_choice': 'A',\n",
       "   'user_input': 'A',\n",
       "   'score': 1},\n",
       "  {'question_number': 2,\n",
       "   'value': 'A. Thomas Jefferson\\n',\n",
       "   'solution_choice': 'A',\n",
       "   'user_input': 'A',\n",
       "   'score': 1},\n",
       "  {'question_number': 3,\n",
       "   'value': 'A. 1776\\n',\n",
       "   'solution_choice': 'A',\n",
       "   'user_input': 'A',\n",
       "   'score': 1},\n",
       "  {'question_number': 4,\n",
       "   'value': 'B. Franklin D. Roosevelt\\n',\n",
       "   'solution_choice': 'B',\n",
       "   'user_input': 'B',\n",
       "   'score': 1}],\n",
       " 'grade': 100.0}"
      ]
     },
     "execution_count": 84,
     "metadata": {},
     "output_type": "execute_result"
    }
   ],
   "source": [
    "grade_test({1: 'A', 2: 'A', 3: 'A', 4: 'B'}, answers )"
   ]
  },
  {
   "cell_type": "code",
   "execution_count": null,
   "id": "52f24275-3171-47f8-90f3-2ab582eaf763",
   "metadata": {},
   "outputs": [],
   "source": []
  }
 ],
 "metadata": {
  "kernelspec": {
   "display_name": "Python 3 (ipykernel)",
   "language": "python",
   "name": "python3"
  },
  "language_info": {
   "codemirror_mode": {
    "name": "ipython",
    "version": 3
   },
   "file_extension": ".py",
   "mimetype": "text/x-python",
   "name": "python",
   "nbconvert_exporter": "python",
   "pygments_lexer": "ipython3",
   "version": "3.11.2"
  }
 },
 "nbformat": 4,
 "nbformat_minor": 5
}
