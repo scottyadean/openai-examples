{
 "cells": [
  {
   "cell_type": "code",
   "execution_count": 3,
   "id": "b1d0bf21-d99f-48e6-a672-69c3d5d2ad64",
   "metadata": {},
   "outputs": [],
   "source": [
    "import os\n",
    "import openai\n",
    "import pprint\n",
    "pp = pprint.PrettyPrinter(depth=6)"
   ]
  },
  {
   "cell_type": "code",
   "execution_count": 4,
   "id": "51389747-6a46-47dd-8387-29dac93466cc",
   "metadata": {},
   "outputs": [],
   "source": [
    "openai.api_key = os.environ[\"OPENAI_KEY\"]"
   ]
  },
  {
   "cell_type": "code",
   "execution_count": 5,
   "id": "b9250623-26b9-4ade-9c85-6ec504c358ce",
   "metadata": {},
   "outputs": [],
   "source": [
    "#pip install openai pdf2image tiktoken unstructured langchain pypdf pdfminer-six\n"
   ]
  },
  {
   "cell_type": "code",
   "execution_count": 8,
   "id": "80a2f0b5-08c0-4179-ba32-5a458d06df26",
   "metadata": {},
   "outputs": [
    {
     "name": "stdout",
     "output_type": "stream",
     "text": [
      "\n",
      "\n",
      "1. Online Coaching: The online coaching industry has been growing steadily over the past few years, and is projected to continue to grow in the coming years. With the rise of remote work, the need for online coaching services has grown exponentially. If you have a skill or expertise that you can share with others, then starting an online coaching business could be a great opportunity for you.\n",
      "\n",
      "2. Social Media Consulting: With the rise of social media, businesses are increasingly turning to experts for help with their digital marketing campaigns. If you have a knack for understanding social media trends and creating engaging content, then starting a social media consulting business could be a great option.\n",
      "\n",
      "3. Digital Marketing Agency: Digital marketing is a rapidly growing industry, and it’s only going to get bigger in the coming years. Businesses are increasingly seeing the value of having an expert manage their online presence. If you have experience in digital marketing, then you could start a digital marketing agency to help businesses reach their online goals.\n",
      "\n",
      "4. Dropshipping: Dropshipping is an online business model that allows you to sell products without having to manage inventory or fulfill orders. With the right supplier, you can start a dropshipping business with minimal startup costs and\n"
     ]
    }
   ],
   "source": [
    "import os\n",
    "from langchain.llms import OpenAI\n",
    "\n",
    "llm_langchain = OpenAI(model_name=\"text-davinci-003\")\n",
    "text_to_predict = \"What is a profitable small business to start in 2023 \"\n",
    "print(llm_langchain(text_to_predict))"
   ]
  },
  {
   "cell_type": "code",
   "execution_count": null,
   "id": "d6c0f682-9414-4357-b8e2-895612d316eb",
   "metadata": {},
   "outputs": [],
   "source": []
  }
 ],
 "metadata": {
  "kernelspec": {
   "display_name": "Python 3 (ipykernel)",
   "language": "python",
   "name": "python3"
  },
  "language_info": {
   "codemirror_mode": {
    "name": "ipython",
    "version": 3
   },
   "file_extension": ".py",
   "mimetype": "text/x-python",
   "name": "python",
   "nbconvert_exporter": "python",
   "pygments_lexer": "ipython3",
   "version": "3.11.2"
  }
 },
 "nbformat": 4,
 "nbformat_minor": 5
}
